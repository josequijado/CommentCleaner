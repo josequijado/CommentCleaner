{
 "cells": [
  {
   "cell_type": "markdown",
   "id": "d2d0992e-ece9-4033-92c9-9644fae7abbf",
   "metadata": {},
   "source": [
    "# Cargamos las librerías básicas.\n",
    "Esto será común a todos los cuadernos de este proyecto.\n",
    "- Se cargan las librerías básicas\n",
    "    - os\n",
    "    - subprocess\n",
    "    - re\n",
    "    - numpy as np\n",
    "    - pandas as pd\n",
    "    - csv\n",
    "    - string # Para usar punctuation y eliminar los signos de puntuación\n",
    "    - seaborn as sns\n",
    "    - matplotlib as plt\n",
    "    - ast # Para poder evaluar listas\n",
    "    - spacy\n",
    "    - tensorflow\n",
    "    - displacy\n",
    "    - train_test_split\n",
    "- Se importan los modelos\n",
    "    - SVC\n",
    "    - RandomForestClassifier\n",
    "- Se cargan las Stop Words\n",
    "- Se carga del diccionario de NLP en_core_web_lg"
   ]
  },
  {
   "cell_type": "code",
   "execution_count": 1,
   "id": "b9e5ac02-299f-449c-8054-445ce412304f",
   "metadata": {},
   "outputs": [],
   "source": [
    "!source odio_env/bin/activate"
   ]
  },
  {
   "cell_type": "code",
   "execution_count": 2,
   "id": "5dafe191-358e-4fb3-9f11-6216a6f598e3",
   "metadata": {},
   "outputs": [
    {
     "name": "stderr",
     "output_type": "stream",
     "text": [
      "2023-11-11 19:20:02.246453: I tensorflow/core/platform/cpu_feature_guard.cc:182] This TensorFlow binary is optimized to use available CPU instructions in performance-critical operations.\n",
      "To enable the following instructions: AVX2 FMA, in other operations, rebuild TensorFlow with the appropriate compiler flags.\n"
     ]
    },
    {
     "name": "stdout",
     "output_type": "stream",
     "text": [
      "<spacy.lang.en.English object at 0x15477aa10>\n"
     ]
    }
   ],
   "source": [
    "# Las importaciones (se harán en cada archivo de esta serie)\n",
    "%run \"import.py\""
   ]
  },
  {
   "cell_type": "code",
   "execution_count": 3,
   "id": "cc446b74-dd2e-4871-8fc9-5c258e948bb9",
   "metadata": {},
   "outputs": [],
   "source": [
    "# Leemos los conjuntos de entrenamiento y de test\n",
    "ruta = \"train_test/\"\n",
    "X_train_name = ruta + \"TF_IDF_X_train.csv\"\n",
    "X_test_name = ruta + \"TF_IDF_X_test.csv\"\n",
    "y_train_name = ruta + \"TF_IDF_y_train.csv\"\n",
    "y_test_name = ruta + \"TF_IDF_y_test.csv\"\n",
    "\n",
    "X_train = pd.read_csv(X_train_name)\n",
    "X_test = pd.read_csv(X_test_name)\n",
    "y_train = pd.read_csv(y_train_name)\n",
    "y_test = pd.read_csv(y_test_name)"
   ]
  },
  {
   "cell_type": "code",
   "execution_count": null,
   "id": "9d0cff87-6fb2-41a2-923d-25904169f26a",
   "metadata": {},
   "outputs": [],
   "source": []
  }
 ],
 "metadata": {
  "kernelspec": {
   "display_name": "Python 3 (ipykernel)",
   "language": "python",
   "name": "python3"
  },
  "language_info": {
   "codemirror_mode": {
    "name": "ipython",
    "version": 3
   },
   "file_extension": ".py",
   "mimetype": "text/x-python",
   "name": "python",
   "nbconvert_exporter": "python",
   "pygments_lexer": "ipython3",
   "version": "3.11.2"
  }
 },
 "nbformat": 4,
 "nbformat_minor": 5
}
