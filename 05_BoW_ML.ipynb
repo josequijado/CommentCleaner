{
 "cells": [
  {
   "cell_type": "markdown",
   "id": "28fa3315-b264-45e4-a536-c3e23c0cd081",
   "metadata": {},
   "source": [
    "# Cargamos las librerías básicas.\n",
    "Esto será común a todos los cuadernos de este proyecto.\n",
    "- Se cargan las librerías básicas\n",
    "    - os\n",
    "    - subprocess\n",
    "    - re\n",
    "    - numpy as np\n",
    "    - pandas as pd\n",
    "    - csv\n",
    "    - string # Para usar punctuation y eliminar los signos de puntuación\n",
    "    - seaborn as sns\n",
    "    - matplotlib as plt\n",
    "    - ast # Para poder evaluar listas\n",
    "    - spacy\n",
    "    - tensorflow\n",
    "    - displacy\n",
    "    - train_test_split\n",
    "- Se importan los modelos\n",
    "    - SVC\n",
    "    - RandomForestClassifier\n",
    "- Se cargan las Stop Words\n",
    "- Se carga del diccionario de NLP en_core_web_lg"
   ]
  },
  {
   "cell_type": "code",
   "execution_count": 2,
   "id": "9caca52e-803f-4a33-b2d6-4afa6171c20e",
   "metadata": {},
   "outputs": [],
   "source": [
    "!source odio_env/bin/activate"
   ]
  },
  {
   "cell_type": "code",
   "execution_count": 3,
   "id": "19ba7d90-bde5-4fef-a262-ac39d95b0623",
   "metadata": {},
   "outputs": [
    {
     "name": "stderr",
     "output_type": "stream",
     "text": [
      "2023-11-11 19:16:16.631507: I tensorflow/core/platform/cpu_feature_guard.cc:182] This TensorFlow binary is optimized to use available CPU instructions in performance-critical operations.\n",
      "To enable the following instructions: AVX2 FMA, in other operations, rebuild TensorFlow with the appropriate compiler flags.\n"
     ]
    },
    {
     "name": "stdout",
     "output_type": "stream",
     "text": [
      "<spacy.lang.en.English object at 0x15b03d8d0>\n"
     ]
    }
   ],
   "source": [
    "# Las importaciones (se harán en cada archivo de esta serie)\n",
    "%run \"import.py\""
   ]
  },
  {
   "cell_type": "code",
   "execution_count": 4,
   "id": "edd069d9-c45e-4bdf-9c5f-923bf5d2c701",
   "metadata": {},
   "outputs": [],
   "source": [
    "# Leemos los conjuntos de entrenamiento y de test\n",
    "ruta = \"train_test/\"\n",
    "X_train_name = ruta + \"BoW_X_train.csv\"\n",
    "X_test_name = ruta + \"BoW_X_test.csv\"\n",
    "y_train_name = ruta + \"BoW_y_train.csv\"\n",
    "y_test_name = ruta + \"BoW_y_test.csv\"\n",
    "\n",
    "X_train = pd.read_csv(X_train_name)\n",
    "X_test = pd.read_csv(X_test_name)\n",
    "y_train = pd.read_csv(y_train_name)\n",
    "y_test = pd.read_csv(y_test_name)"
   ]
  },
  {
   "cell_type": "code",
   "execution_count": null,
   "id": "242eeb1b-8392-43b7-9550-8efeea743a7f",
   "metadata": {},
   "outputs": [],
   "source": []
  }
 ],
 "metadata": {
  "kernelspec": {
   "display_name": "Python 3 (ipykernel)",
   "language": "python",
   "name": "python3"
  },
  "language_info": {
   "codemirror_mode": {
    "name": "ipython",
    "version": 3
   },
   "file_extension": ".py",
   "mimetype": "text/x-python",
   "name": "python",
   "nbconvert_exporter": "python",
   "pygments_lexer": "ipython3",
   "version": "3.11.2"
  }
 },
 "nbformat": 4,
 "nbformat_minor": 5
}
