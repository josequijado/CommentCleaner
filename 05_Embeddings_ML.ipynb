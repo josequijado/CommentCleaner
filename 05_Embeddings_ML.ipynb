{
 "cells": [
  {
   "cell_type": "markdown",
   "id": "9b09bdd3-c5f9-4556-9818-88a7f7419370",
   "metadata": {},
   "source": [
    "# Cargamos las librerías básicas.\n",
    "Esto será común a todos los cuadernos de este proyecto.\n",
    "- Se cargan las librerías básicas\n",
    "    - os\n",
    "    - subprocess\n",
    "    - re\n",
    "    - numpy as np\n",
    "    - pandas as pd\n",
    "    - csv\n",
    "    - string # Para usar punctuation y eliminar los signos de puntuación\n",
    "    - seaborn as sns\n",
    "    - matplotlib as plt\n",
    "    - ast # Para poder evaluar listas\n",
    "    - spacy\n",
    "    - tensorflow\n",
    "    - displacy\n",
    "    - train_test_split\n",
    "- Se importan los modelos\n",
    "    - SVC\n",
    "    - RandomForestClassifier\n",
    "- Se cargan las Stop Words\n",
    "- Se carga del diccionario de NLP en_core_web_lg"
   ]
  },
  {
   "cell_type": "code",
   "execution_count": 1,
   "id": "e45b8d80-cb65-43d8-b324-3c958fa50ec4",
   "metadata": {},
   "outputs": [],
   "source": [
    "!source odio_env/bin/activate"
   ]
  },
  {
   "cell_type": "code",
   "execution_count": 2,
   "id": "6b4b83a6-6157-460f-a230-1cbc01e33264",
   "metadata": {},
   "outputs": [
    {
     "name": "stderr",
     "output_type": "stream",
     "text": [
      "2023-11-11 19:19:53.929100: I tensorflow/core/platform/cpu_feature_guard.cc:182] This TensorFlow binary is optimized to use available CPU instructions in performance-critical operations.\n",
      "To enable the following instructions: AVX2 FMA, in other operations, rebuild TensorFlow with the appropriate compiler flags.\n"
     ]
    },
    {
     "name": "stdout",
     "output_type": "stream",
     "text": [
      "<spacy.lang.en.English object at 0x155868050>\n"
     ]
    }
   ],
   "source": [
    "# Las importaciones (se harán en cada archivo de esta serie)\n",
    "%run \"import.py\""
   ]
  },
  {
   "cell_type": "code",
   "execution_count": 3,
   "id": "feb230de-2338-4e89-a577-b280fc7b04d7",
   "metadata": {},
   "outputs": [],
   "source": [
    "# Leemos los conjuntos de entrenamiento y de test\n",
    "ruta = \"train_test/\"\n",
    "X_train_name = ruta + \"Embeddings_X_train.csv\"\n",
    "X_test_name = ruta + \"Embeddings_X_test.csv\"\n",
    "y_train_name = ruta + \"Embeddings_y_train.csv\"\n",
    "y_test_name = ruta + \"Embeddings_y_test.csv\"\n",
    "\n",
    "X_train = pd.read_csv(X_train_name)\n",
    "X_test = pd.read_csv(X_test_name)\n",
    "y_train = pd.read_csv(y_train_name)\n",
    "y_test = pd.read_csv(y_test_name)"
   ]
  },
  {
   "cell_type": "code",
   "execution_count": null,
   "id": "91d33f9f-1e7f-401f-a65a-7fb2d573b656",
   "metadata": {},
   "outputs": [],
   "source": []
  }
 ],
 "metadata": {
  "kernelspec": {
   "display_name": "Python 3 (ipykernel)",
   "language": "python",
   "name": "python3"
  },
  "language_info": {
   "codemirror_mode": {
    "name": "ipython",
    "version": 3
   },
   "file_extension": ".py",
   "mimetype": "text/x-python",
   "name": "python",
   "nbconvert_exporter": "python",
   "pygments_lexer": "ipython3",
   "version": "3.11.2"
  }
 },
 "nbformat": 4,
 "nbformat_minor": 5
}
