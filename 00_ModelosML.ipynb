{
 "cells": [
  {
   "cell_type": "markdown",
   "id": "ce6a108c-5f12-4600-a47c-1a1d97fe9ec4",
   "metadata": {},
   "source": [
    "# MODELOS\n",
    "En este cuaderno se crean los modelos de ML que se van a usar en este proyecto."
   ]
  },
  {
   "cell_type": "code",
   "execution_count": 3,
   "id": "393306e7-c075-4da4-9138-d08bff19288d",
   "metadata": {},
   "outputs": [],
   "source": [
    "import os\n",
    "import platform\n",
    "\n",
    "# Detectar el sistema operativo\n",
    "sistema_operativo = platform.system()\n",
    "\n",
    "# Ejecutar comandos específicos del sistema operativo\n",
    "if sistema_operativo == \"Windows\":\n",
    "    # Comandos para Windows\n",
    "    os.system(\"cd odio_env && Scripts\\\\activate && cd ..\")\n",
    "elif sistema_operativo == \"Darwin\":\n",
    "    # Comandos para MacOS (Darwin)\n",
    "    os.system(\"source odio_env/bin/activate\")\n",
    "elif sistema_operativo == \"Linux\":\n",
    "    # Comandos para Linux\n",
    "    os.system(\"source odio_env/bin/activate\")\n",
    "else:\n",
    "    print(\"Sistema operativo no soportado\")\n"
   ]
  },
  {
   "cell_type": "code",
   "execution_count": 7,
   "id": "fc0b7206-5258-4051-91c8-359c8e81e1ae",
   "metadata": {},
   "outputs": [
    {
     "name": "stdout",
     "output_type": "stream",
     "text": [
      "<spacy.lang.en.English object at 0x157504b50>\n"
     ]
    }
   ],
   "source": [
    "# Importamos los paquetes necesarios.\n",
    "%run \"import.py\""
   ]
  },
  {
   "cell_type": "code",
   "execution_count": 8,
   "id": "26080b7f-6ba6-45d8-86b6-1f0f8c9cd833",
   "metadata": {},
   "outputs": [],
   "source": [
    "# Instanciación de modelos\n",
    "model_svc = SVC()\n",
    "model_random_forest = RandomForestClassifier()\n",
    "model_logistic_regression = LogisticRegression()\n",
    "model_multinomial_nb = MultinomialNB()\n",
    "model_decision_tree = DecisionTreeClassifier()\n",
    "model_gradient_boosting = GradientBoostingClassifier()\n",
    "model_k_neighbors = KNeighborsClassifier()"
   ]
  },
  {
   "cell_type": "code",
   "execution_count": 9,
   "id": "c507e7b6-966c-463a-8ea6-82dcd2a4e510",
   "metadata": {},
   "outputs": [],
   "source": [
    "# Grabamos los modelos en un pkl\n",
    "modelos = {\n",
    "    'model_svc': model_svc,\n",
    "    'model_random_forest': model_random_forest,\n",
    "    'model_logistic_regression': model_logistic_regression,\n",
    "    'model_multinomial_nb': model_multinomial_nb, \n",
    "    'model_decision_tree': model_decision_tree, \n",
    "    'model_gradient_boosting': model_gradient_boosting, \n",
    "    'model_k_neighbors': model_k_neighbors\n",
    "}\n",
    "\n",
    "# Guardar los modelos en un archivo .pkl\n",
    "# Directorio donde se guardarán los modelos\n",
    "directorio = 'modelos'\n",
    "if not os.path.exists(directorio):\n",
    "    os.makedirs(directorio)\n",
    "with open(os.path.join(directorio, 'modelos.pkl'), 'wb') as file:\n",
    "    pickle.dump(modelos, file)"
   ]
  },
  {
   "cell_type": "code",
   "execution_count": null,
   "id": "3492d879-117a-4538-abb9-b09543c39e83",
   "metadata": {},
   "outputs": [],
   "source": []
  }
 ],
 "metadata": {
  "kernelspec": {
   "display_name": "Python (odio_env)",
   "language": "python",
   "name": "odio_env"
  },
  "language_info": {
   "codemirror_mode": {
    "name": "ipython",
    "version": 3
   },
   "file_extension": ".py",
   "mimetype": "text/x-python",
   "name": "python",
   "nbconvert_exporter": "python",
   "pygments_lexer": "ipython3",
   "version": "3.11.2"
  }
 },
 "nbformat": 4,
 "nbformat_minor": 5
}
